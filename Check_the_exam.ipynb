{
  "nbformat": 4,
  "nbformat_minor": 0,
  "metadata": {
    "colab": {
      "name": "Check the exam",
      "provenance": [],
      "authorship_tag": "ABX9TyNHhZnMdkWtn/ZaG8n0Bk/I",
      "include_colab_link": true
    },
    "kernelspec": {
      "name": "python3",
      "display_name": "Python 3"
    }
  },
  "cells": [
    {
      "cell_type": "markdown",
      "metadata": {
        "id": "view-in-github",
        "colab_type": "text"
      },
      "source": [
        "<a href=\"https://colab.research.google.com/github/gilbertduenas/codewars---Check-the-exam/blob/master/Check_the_exam.ipynb\" target=\"_parent\"><img src=\"https://colab.research.google.com/assets/colab-badge.svg\" alt=\"Open In Colab\"/></a>"
      ]
    },
    {
      "cell_type": "markdown",
      "metadata": {
        "id": "Di8tmvpoxbUq",
        "colab_type": "text"
      },
      "source": [
        "- +4 for each correct answer\n",
        "- -1 for each incorrect answer\n",
        "- +0 for each blank answer\n",
        "\n",
        "---"
      ]
    },
    {
      "cell_type": "code",
      "metadata": {
        "id": "f_lsWft_xGax",
        "colab_type": "code",
        "colab": {}
      },
      "source": [
        "def check_exam(arr1,arr2):\n",
        "  n = len(arr1)\n",
        "  score = 0\n",
        "\n",
        "  for i in range(n):\n",
        "    if arr1[i] == arr2[i]:\n",
        "      score += 4\n",
        "    elif arr2[i] == \"\":\n",
        "      score += 0\n",
        "    elif arr1[i] != arr2[i]:\n",
        "      score -= 1\n",
        "\n",
        "  if score < 0:\n",
        "    score = 0\n",
        "\n",
        "  return score"
      ],
      "execution_count": 1,
      "outputs": []
    },
    {
      "cell_type": "code",
      "metadata": {
        "id": "2EkkNZa-w8MX",
        "colab_type": "code",
        "colab": {
          "base_uri": "https://localhost:8080/",
          "height": 35
        },
        "outputId": "e2dc6c1f-ab83-4379-9e5c-16f3033537b5"
      },
      "source": [
        "check_exam([\"a\", \"a\", \"b\", \"b\"], [\"a\", \"c\", \"b\", \"d\"])"
      ],
      "execution_count": 2,
      "outputs": [
        {
          "output_type": "execute_result",
          "data": {
            "text/plain": [
              "6"
            ]
          },
          "metadata": {
            "tags": []
          },
          "execution_count": 2
        }
      ]
    },
    {
      "cell_type": "code",
      "metadata": {
        "id": "4p0Nci30xDoZ",
        "colab_type": "code",
        "colab": {
          "base_uri": "https://localhost:8080/",
          "height": 35
        },
        "outputId": "f6b43145-26d0-494d-9f18-7d32e068e2fe"
      },
      "source": [
        "check_exam([\"a\", \"a\", \"c\", \"b\"], [\"a\", \"a\", \"b\",  \"\"])"
      ],
      "execution_count": 3,
      "outputs": [
        {
          "output_type": "execute_result",
          "data": {
            "text/plain": [
              "7"
            ]
          },
          "metadata": {
            "tags": []
          },
          "execution_count": 3
        }
      ]
    },
    {
      "cell_type": "code",
      "metadata": {
        "id": "ttx-9IHnxDK3",
        "colab_type": "code",
        "colab": {
          "base_uri": "https://localhost:8080/",
          "height": 35
        },
        "outputId": "74582c8c-b3cf-4e38-edfd-c65d3e9befee"
      },
      "source": [
        "check_exam([\"a\", \"a\", \"b\", \"c\"], [\"a\", \"a\", \"b\", \"c\"])"
      ],
      "execution_count": 4,
      "outputs": [
        {
          "output_type": "execute_result",
          "data": {
            "text/plain": [
              "16"
            ]
          },
          "metadata": {
            "tags": []
          },
          "execution_count": 4
        }
      ]
    },
    {
      "cell_type": "code",
      "metadata": {
        "id": "vMtZTytrxCJj",
        "colab_type": "code",
        "colab": {
          "base_uri": "https://localhost:8080/",
          "height": 35
        },
        "outputId": "9247a2e6-a1f5-4aec-d68c-55b569ac419d"
      },
      "source": [
        "check_exam([\"b\", \"c\", \"b\", \"a\"], [\"\",  \"a\", \"a\", \"c\"])"
      ],
      "execution_count": 5,
      "outputs": [
        {
          "output_type": "execute_result",
          "data": {
            "text/plain": [
              "0"
            ]
          },
          "metadata": {
            "tags": []
          },
          "execution_count": 5
        }
      ]
    },
    {
      "cell_type": "code",
      "metadata": {
        "id": "8Ycnep7pybh1",
        "colab_type": "code",
        "colab": {}
      },
      "source": [
        ""
      ],
      "execution_count": 5,
      "outputs": []
    }
  ]
}